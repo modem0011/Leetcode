{
  "nbformat": 4,
  "nbformat_minor": 0,
  "metadata": {
    "colab": {
      "name": "Convert Binary Number in a Linked List to Integer.ipynb",
      "provenance": [],
      "authorship_tag": "ABX9TyOChXJT2U+LxJVRCZeWzY3B",
      "include_colab_link": true
    },
    "kernelspec": {
      "name": "python3",
      "display_name": "Python 3"
    }
  },
  "cells": [
    {
      "cell_type": "markdown",
      "metadata": {
        "id": "view-in-github",
        "colab_type": "text"
      },
      "source": [
        "<a href=\"https://colab.research.google.com/github/modem0011/Leetcode/blob/master/Convert_Binary_Number_in_a_Linked_List_to_Integer.ipynb\" target=\"_parent\"><img src=\"https://colab.research.google.com/assets/colab-badge.svg\" alt=\"Open In Colab\"/></a>"
      ]
    },
    {
      "cell_type": "code",
      "metadata": {
        "id": "HsXroLkJenI5",
        "colab_type": "code",
        "colab": {}
      },
      "source": [
        "# Definition for singly-linked list.\n",
        "# class ListNode:\n",
        "#     def __init__(self, val=0, next=None):\n",
        "#         self.val = val\n",
        "#         self.next = next\n",
        "class Solution:\n",
        "    def getDecimalValue(self, head: ListNode) -> int:\n",
        "        x=[]\n",
        "        a=head\n",
        "        while a:\n",
        "            x.append(str(a.val))\n",
        "            a=a.next\n",
        "        s=\"\".join(x)\n",
        "        return (int(s,2))"
      ],
      "execution_count": 35,
      "outputs": []
    }
  ]
}