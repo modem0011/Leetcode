{
  "nbformat": 4,
  "nbformat_minor": 0,
  "metadata": {
    "colab": {
      "name": "Shuffle the Array.ipynb",
      "provenance": [],
      "authorship_tag": "ABX9TyOVS/SHaS+uKsHHGdfUv0Mr",
      "include_colab_link": true
    },
    "kernelspec": {
      "name": "python3",
      "display_name": "Python 3"
    }
  },
  "cells": [
    {
      "cell_type": "markdown",
      "metadata": {
        "id": "view-in-github",
        "colab_type": "text"
      },
      "source": [
        "<a href=\"https://colab.research.google.com/github/modem0011/Leetcode/blob/master/Shuffle_the_Array.ipynb\" target=\"_parent\"><img src=\"https://colab.research.google.com/assets/colab-badge.svg\" alt=\"Open In Colab\"/></a>"
      ]
    },
    {
      "cell_type": "code",
      "metadata": {
        "id": "HsXroLkJenI5",
        "colab_type": "code",
        "colab": {}
      },
      "source": [
        "class Solution:\n",
        "    def shuffle(self, nums, n):\n",
        "        a=[]\n",
        "        for i in range(n):\n",
        "            a.append(nums[i])\n",
        "            a.append(nums[i+n])\n",
        "        return a"
      ],
      "execution_count": 12,
      "outputs": []
    },
    {
      "cell_type": "code",
      "metadata": {
        "id": "QZharUn8jj5i",
        "colab_type": "code",
        "colab": {}
      },
      "source": [
        "a=Solution()"
      ],
      "execution_count": 13,
      "outputs": []
    },
    {
      "cell_type": "code",
      "metadata": {
        "id": "Z6fmCbaqjo9w",
        "colab_type": "code",
        "colab": {
          "base_uri": "https://localhost:8080/",
          "height": 34
        },
        "outputId": "2a6f7d40-2a64-4670-aff6-cf236529fc72"
      },
      "source": [
        "a.shuffle([2,3,6,2,5,9],3)"
      ],
      "execution_count": 14,
      "outputs": [
        {
          "output_type": "execute_result",
          "data": {
            "text/plain": [
              "[2, 2, 3, 5, 6, 9]"
            ]
          },
          "metadata": {
            "tags": []
          },
          "execution_count": 14
        }
      ]
    }
  ]
}