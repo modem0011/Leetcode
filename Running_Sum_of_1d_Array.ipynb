{
  "nbformat": 4,
  "nbformat_minor": 0,
  "metadata": {
    "colab": {
      "name": "Running Sum of 1d Array.ipynb",
      "provenance": [],
      "authorship_tag": "ABX9TyNJtxA/xNi2z3AF97Nu4Lek",
      "include_colab_link": true
    },
    "kernelspec": {
      "name": "python3",
      "display_name": "Python 3"
    }
  },
  "cells": [
    {
      "cell_type": "markdown",
      "metadata": {
        "id": "view-in-github",
        "colab_type": "text"
      },
      "source": [
        "<a href=\"https://colab.research.google.com/github/modem0011/Leetcode/blob/master/Running_Sum_of_1d_Array.ipynb\" target=\"_parent\"><img src=\"https://colab.research.google.com/assets/colab-badge.svg\" alt=\"Open In Colab\"/></a>"
      ]
    },
    {
      "cell_type": "code",
      "metadata": {
        "id": "HsXroLkJenI5",
        "colab_type": "code",
        "colab": {}
      },
      "source": [
        "class Solution:\n",
        "    def runningSum(self, nums) :\n",
        "        x=[]\n",
        "        for i in nums:\n",
        "            if len(x)==0:\n",
        "                x.append(i)\n",
        "            else:    \n",
        "                a=x[-1]+i\n",
        "                x.append(a)\n",
        "            \n",
        "        return x    "
      ],
      "execution_count": 2,
      "outputs": []
    },
    {
      "cell_type": "code",
      "metadata": {
        "id": "QZharUn8jj5i",
        "colab_type": "code",
        "colab": {}
      },
      "source": [
        "a=Solution()"
      ],
      "execution_count": 3,
      "outputs": []
    },
    {
      "cell_type": "code",
      "metadata": {
        "id": "Z6fmCbaqjo9w",
        "colab_type": "code",
        "colab": {
          "base_uri": "https://localhost:8080/",
          "height": 34
        },
        "outputId": "f73fda10-78c2-4e2d-ea7f-6fe7fce7bbc5"
      },
      "source": [
        "a.runningSum([2,3,6,2,5])"
      ],
      "execution_count": 4,
      "outputs": [
        {
          "output_type": "execute_result",
          "data": {
            "text/plain": [
              "[2, 5, 11, 13, 18]"
            ]
          },
          "metadata": {
            "tags": []
          },
          "execution_count": 4
        }
      ]
    }
  ]
}