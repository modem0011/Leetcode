{
  "nbformat": 4,
  "nbformat_minor": 0,
  "metadata": {
    "colab": {
      "name": "Kids With the Greatest Number of Candies.ipynb",
      "provenance": [],
      "authorship_tag": "ABX9TyPeY1W94zwKNU6p25hfx2br",
      "include_colab_link": true
    },
    "kernelspec": {
      "name": "python3",
      "display_name": "Python 3"
    }
  },
  "cells": [
    {
      "cell_type": "markdown",
      "metadata": {
        "id": "view-in-github",
        "colab_type": "text"
      },
      "source": [
        "<a href=\"https://colab.research.google.com/github/modem0011/Leetcode/blob/master/Kids_With_the_Greatest_Number_of_Candies.ipynb\" target=\"_parent\"><img src=\"https://colab.research.google.com/assets/colab-badge.svg\" alt=\"Open In Colab\"/></a>"
      ]
    },
    {
      "cell_type": "code",
      "metadata": {
        "id": "HsXroLkJenI5",
        "colab_type": "code",
        "colab": {}
      },
      "source": [
        "class Solution:\n",
        "    def kidsWithCandies(self, candies, extraCandies):\n",
        "        k=[]\n",
        "        for i in candies:\n",
        "            if i+extraCandies >= max(candies):\n",
        "                k.append(True)\n",
        "            else:\n",
        "                k.append(False)\n",
        "        return k    "
      ],
      "execution_count": 6,
      "outputs": []
    },
    {
      "cell_type": "code",
      "metadata": {
        "id": "QZharUn8jj5i",
        "colab_type": "code",
        "colab": {}
      },
      "source": [
        "a=Solution()"
      ],
      "execution_count": 7,
      "outputs": []
    },
    {
      "cell_type": "code",
      "metadata": {
        "id": "Z6fmCbaqjo9w",
        "colab_type": "code",
        "colab": {
          "base_uri": "https://localhost:8080/",
          "height": 34
        },
        "outputId": "c3d84f70-67b6-41d9-c18c-05d56aeb3afe"
      },
      "source": [
        "a.kidsWithCandies([2,3,6,2,5],1)"
      ],
      "execution_count": 8,
      "outputs": [
        {
          "output_type": "execute_result",
          "data": {
            "text/plain": [
              "[False, False, True, False, True]"
            ]
          },
          "metadata": {
            "tags": []
          },
          "execution_count": 8
        }
      ]
    }
  ]
}