{
  "nbformat": 4,
  "nbformat_minor": 0,
  "metadata": {
    "colab": {
      "name": "How Many Numbers Are Smaller Than the Current Number.ipynb",
      "provenance": [],
      "authorship_tag": "ABX9TyP2HL1/6lxSrkqPG/Tc01d6",
      "include_colab_link": true
    },
    "kernelspec": {
      "name": "python3",
      "display_name": "Python 3"
    }
  },
  "cells": [
    {
      "cell_type": "markdown",
      "metadata": {
        "id": "view-in-github",
        "colab_type": "text"
      },
      "source": [
        "<a href=\"https://colab.research.google.com/github/modem0011/Leetcode/blob/master/How_Many_Numbers_Are_Smaller_Than_the_Current_Number.ipynb\" target=\"_parent\"><img src=\"https://colab.research.google.com/assets/colab-badge.svg\" alt=\"Open In Colab\"/></a>"
      ]
    },
    {
      "cell_type": "code",
      "metadata": {
        "id": "HsXroLkJenI5",
        "colab_type": "code",
        "colab": {}
      },
      "source": [
        "class Solution:\n",
        "    def smallerNumbersThanCurrent(self, nums) :\n",
        "        x=[]\n",
        "        for i in nums:\n",
        "            count=0\n",
        "            for  j in range(len(nums)):\n",
        "                if i > nums[j]:\n",
        "                    count=count+1\n",
        "            x.append(count)        \n",
        "           \n",
        "        return x"
      ],
      "execution_count": 11,
      "outputs": []
    },
    {
      "cell_type": "code",
      "metadata": {
        "id": "QZharUn8jj5i",
        "colab_type": "code",
        "colab": {}
      },
      "source": [
        "a=Solution()"
      ],
      "execution_count": 12,
      "outputs": []
    },
    {
      "cell_type": "code",
      "metadata": {
        "id": "Z6fmCbaqjo9w",
        "colab_type": "code",
        "colab": {
          "base_uri": "https://localhost:8080/",
          "height": 34
        },
        "outputId": "d8cffa20-9e1e-4254-fd02-2dcf89f955f8"
      },
      "source": [
        "a.smallerNumbersThanCurrent([2,3,6,2,5,9])"
      ],
      "execution_count": 13,
      "outputs": [
        {
          "output_type": "execute_result",
          "data": {
            "text/plain": [
              "[0, 2, 4, 0, 3, 5]"
            ]
          },
          "metadata": {
            "tags": []
          },
          "execution_count": 13
        }
      ]
    },
    {
      "cell_type": "code",
      "metadata": {
        "id": "SLN1WHI4ErAp",
        "colab_type": "code",
        "colab": {}
      },
      "source": [
        ""
      ],
      "execution_count": null,
      "outputs": []
    }
  ]
}